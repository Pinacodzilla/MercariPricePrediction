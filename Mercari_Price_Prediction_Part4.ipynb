{
 "cells": [
  {
   "cell_type": "markdown",
   "metadata": {},
   "source": [
    "# Mercari Price Prediction Project \n",
    "##  - Part 4 CNN with Word Embeddings and Overall Model Evaluations"
   ]
  },
  {
   "cell_type": "markdown",
   "metadata": {},
   "source": [
    "With reference to the baseline CNN model without any word embedding that I built in part 3, in this section, I'm going to try pre-trained common bag of words (CBOW), skip-gram, word2vec combined both models, and GloVe as weights in deep learning embedding layers to see if I can improve the model performance."
   ]
  },
  {
   "cell_type": "markdown",
   "metadata": {},
   "source": [
    "## Import libraries"
   ]
  },
  {
   "cell_type": "code",
   "execution_count": 3,
   "metadata": {},
   "outputs": [],
   "source": [
    "import tensorflow as tf\n",
    "from sklearn.preprocessing import LabelEncoder, OneHotEncoder\n",
    "from numpy.random import shuffle\n",
    "from tensorflow.keras.models import Sequential\n",
    "from tensorflow.keras.layers import Input, Embedding, Dense, Dropout, Activation, Flatten, Conv1D, GlobalMaxPooling1D\n",
    "from keras.layers import concatenate, BatchNormalization\n",
    "from keras import optimizers\n",
    "from keras.models import Model\n",
    "import pandas as pd\n",
    "from tqdm import tqdm\n",
    "import re\n",
    "import numpy as np\n",
    "from keras.preprocessing.text import Tokenizer\n",
    "from keras.preprocessing.sequence import pad_sequences\n",
    "import gensim\n",
    "import multiprocessing\n",
    "from sklearn.model_selection import train_test_split\n",
    "\n",
    "import keras\n",
    "import pydotplus\n",
    "from keras.utils.vis_utils import model_to_dot\n",
    "from IPython.display import Image\n",
    "from tensorflow.keras.utils import plot_model\n",
    "\n",
    "import pickle"
   ]
  },
  {
   "cell_type": "markdown",
   "metadata": {},
   "source": [
    "## Import data"
   ]
  },
  {
   "cell_type": "code",
   "execution_count": 4,
   "metadata": {},
   "outputs": [
    {
     "data": {
      "text/plain": [
       "((1482535, 16), (1482535, 16))"
      ]
     },
     "execution_count": 4,
     "metadata": {},
     "output_type": "execute_result"
    }
   ],
   "source": [
    "train = pd.read_csv('df_train.csv')\n",
    "test = pd.read_csv('df_train.csv')\n",
    "train.shape, test.shape"
   ]
  },
  {
   "cell_type": "markdown",
   "metadata": {},
   "source": [
    "## Process data"
   ]
  },
  {
   "cell_type": "code",
   "execution_count": 5,
   "metadata": {},
   "outputs": [],
   "source": [
    "# split target variable and train dataset\n",
    "y_train = train['log_price']\n",
    "train.drop(['train_id','log_price'], axis=1, inplace=True)"
   ]
  },
  {
   "cell_type": "code",
   "execution_count": 6,
   "metadata": {},
   "outputs": [
    {
     "name": "stdout",
     "output_type": "stream",
     "text": [
      "Normalizing following columns:  {'compound', 'desc_len', 'neutral', 'positive', 'name_len', 'negative'}\n"
     ]
    }
   ],
   "source": [
    "# normalize numerical features using min-max normalization\n",
    "cols = set(train.columns.values)\n",
    "skip_cols = {'item_condition_id', 'brand_name',\n",
    "  'shipping', 'item_description', 'main_cat',\n",
    "  'subcat1', 'subcat2','name'}\n",
    "\n",
    "cols_to_normalize = cols - skip_cols\n",
    "print(\"Normalizing following columns: \", cols_to_normalize)\n",
    "\n",
    "def normalize(df):\n",
    "    result=df.copy()\n",
    "    for feature_name in df.columns:\n",
    "        if (feature_name in cols_to_normalize):\n",
    "            max_value = df[feature_name].max()\n",
    "            min_value = df[feature_name].min()\n",
    "            result[feature_name] = (df[feature_name] - min_value) / (max_value - min_value)\n",
    "    return result\n",
    "\n",
    "train = normalize(train)\n",
    "test = normalize(test)"
   ]
  },
  {
   "cell_type": "code",
   "execution_count": 7,
   "metadata": {},
   "outputs": [],
   "source": [
    "# text preprocessing \n",
    "def decontracted(phrase):\n",
    "    # specific\n",
    "    phrase = re.sub(r\"won't\", \"will not\", phrase)\n",
    "    phrase = re.sub(r\"can\\'t\", \"can not\", phrase)\n",
    "\n",
    "    # general\n",
    "    phrase = re.sub(r\"n\\'t\", \" not\", phrase)\n",
    "    phrase = re.sub(r\"\\'re\", \" are\", phrase)\n",
    "    phrase = re.sub(r\"\\'s\", \" is\", phrase)\n",
    "    phrase = re.sub(r\"\\'d\", \" would\", phrase)\n",
    "    phrase = re.sub(r\"\\'ll\", \" will\", phrase)\n",
    "    phrase = re.sub(r\"\\'t\", \" not\", phrase)\n",
    "    phrase = re.sub(r\"\\'ve\", \" have\", phrase)\n",
    "    phrase = re.sub(r\"\\'m\", \" am\", phrase)\n",
    "    return phrase\n",
    "\n",
    "# we are removing the words from the stop words list: 'no', 'nor', 'not'\n",
    "stopwords= ['i', 'me', 'my', 'myself', 'we', 'our', 'ours', 'ourselves', 'you', \"you're\", \"you've\",\\\n",
    "            \"you'll\", \"you'd\", 'your', 'yours', 'yourself', 'yourselves', 'he', 'him', 'his', 'himself', \\\n",
    "            'she', \"she's\", 'her', 'hers', 'herself', 'it', \"it's\", 'its', 'itself', 'they', 'them', 'their',\\\n",
    "            'theirs', 'themselves', 'what', 'which', 'who', 'whom', 'this', 'that', \"that'll\", 'these', 'those', \\\n",
    "            'am', 'is', 'are', 'was', 'were', 'be', 'been', 'being', 'have', 'has', 'had', 'having', 'do', 'does', \\\n",
    "            'did', 'doing', 'a', 'an', 'the', 'and', 'but', 'if', 'or', 'because', 'as', 'until', 'while', 'of', \\\n",
    "            'at', 'by', 'for', 'with', 'about', 'against', 'between', 'into', 'through', 'during', 'before', 'after',\\\n",
    "            'above', 'below', 'to', 'from', 'up', 'down', 'in', 'out', 'on', 'off', 'over', 'under', 'again', 'further',\\\n",
    "            'then', 'once', 'here', 'there', 'when', 'where', 'why', 'how', 'all', 'any', 'both', 'each', 'few', 'more',\\\n",
    "            'most', 'other', 'some', 'such', 'only', 'own', 'same', 'so', 'than', 'too', 'very', \\\n",
    "            's', 't', 'can', 'will', 'just', 'don', \"don't\", 'should', \"should've\", 'now', 'd', 'll', 'm', 'o', 're', \\\n",
    "            've', 'y', 'ain', 'aren', \"aren't\", 'couldn', \"couldn't\", 'didn', \"didn't\", 'doesn', \"doesn't\", 'hadn',\\\n",
    "            \"hadn't\", 'hasn', \"hasn't\", 'haven', \"haven't\", 'isn', \"isn't\", 'ma', 'mightn', \"mightn't\", 'mustn',\\\n",
    "            \"mustn't\", 'needn', \"needn't\", 'shan', \"shan't\", 'shouldn', \"shouldn't\", 'wasn', \"wasn't\", 'weren', \"weren't\", \\\n",
    "            'won', \"won't\", 'wouldn', \"wouldn't\"]"
   ]
  },
  {
   "cell_type": "code",
   "execution_count": 8,
   "metadata": {},
   "outputs": [
    {
     "name": "stderr",
     "output_type": "stream",
     "text": [
      "100%|██████████| 1482535/1482535 [00:02<00:00, 530008.52it/s]\n",
      "100%|██████████| 1482535/1482535 [00:02<00:00, 548308.91it/s]\n"
     ]
    }
   ],
   "source": [
    "def clean_cat(cat_values):\n",
    "    '''takes categorical column values as arguments and returns list of cleaned categories'''\n",
    "    \n",
    "    catogories = list(cat_values)\n",
    "\n",
    "    cat_list = []\n",
    "    for i in tqdm(catogories):\n",
    "        i = re.sub('[^A-Za-z0-9]+', ' ', i)\n",
    "        i = i.replace(' ','')\n",
    "        i = i.replace('&','_')\n",
    "        cat_list.append(i.strip())\n",
    "    \n",
    "    return cat_list\n",
    "\n",
    "# Cleaning brand name before using count vectorizer\n",
    "# Using same preprocessing as used earlier for categories: 'clean_cat()' function\n",
    "\n",
    "train['brand_name'] = clean_cat(train['brand_name'].values)\n",
    "test['brand_name'] = clean_cat(test['brand_name'].values)"
   ]
  },
  {
   "cell_type": "code",
   "execution_count": 9,
   "metadata": {},
   "outputs": [],
   "source": [
    "# encoding categorical variables for embedding\n",
    "# use the same methods as in part3 to save some memories, better if we can use one-hot-encoding\n",
    "label = LabelEncoder()\n",
    "\n",
    "label.fit(train.brand_name) # brand name \n",
    "train.brand_name = label.transform(train.brand_name)\n",
    "\n",
    "label.fit(train.main_cat) # sub_cat0\n",
    "train.main_cat = label.transform(train.main_cat)\n",
    "\n",
    "label.fit(train.subcat1) # sub_cat_1\n",
    "train.subcat1 = label.transform(train.subcat1)\n",
    "\n",
    "label.fit(train.subcat2) # sub_cat2\n",
    "train.subcat2 = label.transform(train.subcat2)\n",
    "\n",
    "del label"
   ]
  },
  {
   "cell_type": "code",
   "execution_count": 1,
   "metadata": {},
   "outputs": [],
   "source": [
    "# # preprocessing 'item_description' for train set\n",
    "# preprocessed_desc_train = []\n",
    "# for sentance in train['item_description'].values:\n",
    "#     sent = decontracted(sentance)\n",
    "#     sent = sent.replace('\\\\r', ' ')\n",
    "#     sent = sent.replace('\\\\\"', ' ')\n",
    "#     sent = sent.replace('\\\\n', ' ')\n",
    "#     sent = re.sub('[^A-Za-z0-9]+', ' ', sent)\n",
    "#     sent = re.sub('[0-9]',' ',sent)\n",
    "#     sent = re.sub('[^0-9A-Za-z]+',' ', sent)\n",
    "#     sent = ' '.join(e for e in sent.split() if e.lower() not in stopwords)\n",
    "#     preprocessed_desc_train.append(sent.lower().strip())\n",
    "\n",
    "# # after preprocesing\n",
    "# preprocessed_desc_train[0]"
   ]
  },
  {
   "cell_type": "code",
   "execution_count": 11,
   "metadata": {},
   "outputs": [
    {
     "name": "stderr",
     "output_type": "stream",
     "text": [
      "100%|██████████| 1482535/1482535 [00:37<00:00, 39547.56it/s]\n",
      "100%|██████████| 1482535/1482535 [00:37<00:00, 39523.10it/s]\n",
      "100%|██████████| 1482535/1482535 [01:58<00:00, 12459.22it/s]\n",
      "100%|██████████| 1482535/1482535 [01:55<00:00, 12798.58it/s]\n"
     ]
    }
   ],
   "source": [
    "# define function to preprocess texts\n",
    "def preprocess_text(text_col):\n",
    "    preprocessed_texts = []\n",
    "    for sentence in tqdm(text_col.values):\n",
    "        sent = decontracted(sentence)\n",
    "        sent = sentence.replace('\\\\r', ' ')\n",
    "        sent = sent.replace('\\\\\"', ' ')\n",
    "        sent = sent.replace('\\\\n', ' ')\n",
    "        sent = re.sub('[^A-Za-z0-9]+', ' ', sent)\n",
    "        sent = re.sub('[0-9]',' ',sent)\n",
    "        sent = re.sub('[^0-9A-Za-z]+',' ', sent)\n",
    "        sent = ' '.join(e for e in sent.split() if e.lower() not in stopwords)\n",
    "        preprocessed_texts.append(sent.lower().strip())\n",
    "    return preprocessed_texts\n",
    "\n",
    "# preprocess 'name' abd 'item_description' colunms\n",
    "train['name'] = preprocess_text(train['name'])\n",
    "test['name'] = preprocess_text(test['name'])\n",
    "train['item_description'] = preprocess_text(train['item_description'])\n",
    "test['item_description'] = preprocess_text(test['item_description'])"
   ]
  },
  {
   "cell_type": "markdown",
   "metadata": {},
   "source": [
    "## Train Word Embedding Models"
   ]
  },
  {
   "cell_type": "markdown",
   "metadata": {},
   "source": [
    "### Skip-gram"
   ]
  },
  {
   "cell_type": "code",
   "execution_count": 12,
   "metadata": {},
   "outputs": [],
   "source": [
    "# train skip-gram on 'name' column\n",
    "tokens_name = train['name'].apply(lambda x: x.split()) # tokenizing text"
   ]
  },
  {
   "cell_type": "code",
   "execution_count": 13,
   "metadata": {},
   "outputs": [],
   "source": [
    "# define skip-gram model (sg=1)\n",
    "model_name = gensim.models.Word2Vec(tokens_name, min_count=1,size= 200,workers=3, window =3, sg = 1)"
   ]
  },
  {
   "cell_type": "code",
   "execution_count": 16,
   "metadata": {},
   "outputs": [
    {
     "data": {
      "text/plain": [
       "(52946933, 58652870)"
      ]
     },
     "execution_count": 16,
     "metadata": {},
     "output_type": "execute_result"
    }
   ],
   "source": [
    "# train skip-gram word2vec on 'name' column in training dataset only to avoid data leakage\n",
    "model_name.train(tokens_name,\n",
    "                total_examples= len(tokens_name),\n",
    "                epochs=10)"
   ]
  },
  {
   "cell_type": "code",
   "execution_count": 15,
   "metadata": {},
   "outputs": [],
   "source": [
    "# Define function to add/aggregate embeddings of single token text\n",
    "def word_vector(tokens, size):\n",
    "    vec = np.zeros(size).reshape((1, size))\n",
    "    count = 0\n",
    "    for word in tokens:\n",
    "        try:\n",
    "            vec += model_name.wv[word].reshape((1, size))\n",
    "            count += 1\n",
    "        except KeyError:  # handling the case where the token is not in vocabulary\n",
    "            count=0\n",
    "    if count != 0:\n",
    "        vec /= count\n",
    "    return vec"
   ]
  },
  {
   "cell_type": "code",
   "execution_count": 15,
   "metadata": {},
   "outputs": [],
   "source": [
    "# tokens_name_size=len(tokens_name)\n",
    "# wordvec_train_name = np.zeros([tokens_name_size, 200]) \n",
    "# # wordvec_test_array = np.zeros((test_tokens_size, 200))\n",
    "\n",
    "# for i in range(tokens_name_size):\n",
    "#     try:\n",
    "#         wordvec_train_name[i,:] = word_vector(tokens_name[i], 200)\n",
    "#     except KeyError: \n",
    "#         continue"
   ]
  },
  {
   "cell_type": "code",
   "execution_count": 16,
   "metadata": {},
   "outputs": [
    {
     "data": {
      "text/plain": [
       "[('girl', 0.6978934407234192),\n",
       " ('toddler', 0.6608414649963379),\n",
       " ('boys', 0.6361578106880188),\n",
       " ('toddlers', 0.6250782012939453),\n",
       " ('tcp', 0.6128557324409485),\n",
       " ('gymbo', 0.6030761003494263),\n",
       " ('mons', 0.6022695302963257),\n",
       " ('toodler', 0.6001339554786682),\n",
       " ('mths', 0.599035918712616),\n",
       " ('healthtex', 0.5898845195770264)]"
      ]
     },
     "execution_count": 16,
     "metadata": {},
     "output_type": "execute_result"
    }
   ],
   "source": [
    "# check model sanity using similar words\n",
    "model_name.wv.most_similar(positive=\"girls\")"
   ]
  },
  {
   "cell_type": "code",
   "execution_count": 18,
   "metadata": {
    "scrolled": true
   },
   "outputs": [
    {
     "data": {
      "text/plain": [
       "[('placetoshop', 0.5386506915092468),\n",
       " ('mello', 0.5337939262390137),\n",
       " ('strowman', 0.5310925841331482),\n",
       " ('nenee', 0.5171169638633728),\n",
       " ('cermony', 0.5167869925498962),\n",
       " ('infread', 0.5166544914245605),\n",
       " ('anothabadcreation', 0.5164967179298401),\n",
       " ('dorenbecher', 0.5162520408630371),\n",
       " ('beckett', 0.515447735786438),\n",
       " ('failed', 0.5137488842010498)]"
      ]
     },
     "execution_count": 18,
     "metadata": {},
     "output_type": "execute_result"
    }
   ],
   "source": [
    "model_name.wv.most_similar(positive=\"aj\")"
   ]
  },
  {
   "cell_type": "code",
   "execution_count": 20,
   "metadata": {},
   "outputs": [],
   "source": [
    "# start skip-gram on 'item_description' column\n",
    "tokens_desc = train['item_description'].apply(lambda x: x.split()) # tokenizing text"
   ]
  },
  {
   "cell_type": "code",
   "execution_count": 21,
   "metadata": {},
   "outputs": [],
   "source": [
    "# define skip-gram model (sg=1)\n",
    "model_desc = gensim.models.Word2Vec(tokens_desc, min_count=1,size= 200,workers=3, window =3, sg = 1)"
   ]
  },
  {
   "cell_type": "code",
   "execution_count": 22,
   "metadata": {},
   "outputs": [
    {
     "data": {
      "text/plain": [
       "(227631512, 253780680)"
      ]
     },
     "execution_count": 22,
     "metadata": {},
     "output_type": "execute_result"
    }
   ],
   "source": [
    "# train skip-gram word2vec on 'item_description' column in training dataset only to avoid data leakage\n",
    "model_desc.train(tokens_desc,\n",
    "                total_examples= len(tokens_desc),\n",
    "                epochs=10)"
   ]
  },
  {
   "cell_type": "code",
   "execution_count": 25,
   "metadata": {
    "scrolled": true
   },
   "outputs": [
    {
     "data": {
      "text/plain": [
       "[('boys', 0.7316703796386719),\n",
       " ('girl', 0.6686173677444458),\n",
       " ('toddler', 0.654719889163971),\n",
       " ('kids', 0.6462230086326599),\n",
       " ('josmo', 0.6004785299301147),\n",
       " ('lass', 0.5925391912460327),\n",
       " ('dotdot', 0.5912953615188599),\n",
       " ('colthes', 0.5858153700828552),\n",
       " ('gymboree', 0.583824098110199),\n",
       " ('sleepwears', 0.5833008289337158)]"
      ]
     },
     "execution_count": 25,
     "metadata": {},
     "output_type": "execute_result"
    }
   ],
   "source": [
    "# check model sanity using similar words\n",
    "model_desc.wv.most_similar(positive=\"girls\")"
   ]
  },
  {
   "cell_type": "markdown",
   "metadata": {},
   "source": [
    "### Common Bag of Words (CBOW)"
   ]
  },
  {
   "cell_type": "code",
   "execution_count": 14,
   "metadata": {},
   "outputs": [],
   "source": [
    "# train CBOW on 'name' column, define function (sg=0)\n",
    "model_name_2 = gensim.models.Word2Vec(tokens_name, min_count=1,size= 200,workers=3, window =3, sg = 0)"
   ]
  },
  {
   "cell_type": "code",
   "execution_count": 15,
   "metadata": {
    "scrolled": true
   },
   "outputs": [
    {
     "data": {
      "text/plain": [
       "(52947124, 58652870)"
      ]
     },
     "execution_count": 15,
     "metadata": {},
     "output_type": "execute_result"
    }
   ],
   "source": [
    "# train CBOW word2vec on 'name' column in training dataset only to avoid data leakage\n",
    "model_name_2.train(tokens_name,\n",
    "                total_examples= len(tokens_name),\n",
    "                epochs=10)"
   ]
  },
  {
   "cell_type": "code",
   "execution_count": 17,
   "metadata": {
    "scrolled": true
   },
   "outputs": [
    {
     "data": {
      "text/plain": [
       "[('girl', 0.6457170248031616),\n",
       " ('boys', 0.6232644319534302),\n",
       " ('kids', 0.5644568800926208),\n",
       " ('infants', 0.5503854155540466),\n",
       " ('toddler', 0.5246853828430176),\n",
       " ('toddlers', 0.5245176553726196),\n",
       " ('womens', 0.5030124187469482),\n",
       " ('boy', 0.4984321892261505),\n",
       " ('women', 0.4865603446960449),\n",
       " ('months', 0.4725039303302765)]"
      ]
     },
     "execution_count": 17,
     "metadata": {},
     "output_type": "execute_result"
    }
   ],
   "source": [
    "# check model sanity using similar words\n",
    "model_name_2.wv.most_similar(positive=\"girls\")"
   ]
  },
  {
   "cell_type": "code",
   "execution_count": 19,
   "metadata": {
    "scrolled": true
   },
   "outputs": [
    {
     "data": {
      "text/plain": [
       "[('zach', 0.5825031399726868),\n",
       " ('placetoshop', 0.5449240803718567),\n",
       " ('chasity', 0.5431110858917236),\n",
       " ('lows', 0.516444206237793),\n",
       " ('prizm', 0.5138728618621826),\n",
       " ('raptor', 0.5135284066200256),\n",
       " ('stanton', 0.5111625790596008),\n",
       " ('shaquille', 0.5098451375961304),\n",
       " ('giancarlo', 0.502946138381958),\n",
       " ('neal', 0.49687549471855164)]"
      ]
     },
     "execution_count": 19,
     "metadata": {},
     "output_type": "execute_result"
    }
   ],
   "source": [
    "model_name_2.wv.most_similar(positive=\"aj\")"
   ]
  },
  {
   "cell_type": "code",
   "execution_count": 23,
   "metadata": {},
   "outputs": [],
   "source": [
    "# train CBOW on 'item_description' column, define function (sg=0)\n",
    "model_desc_2 = gensim.models.Word2Vec(tokens_desc, min_count=1,size= 200,workers=3, window =3, sg = 0)"
   ]
  },
  {
   "cell_type": "code",
   "execution_count": 24,
   "metadata": {},
   "outputs": [
    {
     "data": {
      "text/plain": [
       "(227631154, 253780680)"
      ]
     },
     "execution_count": 24,
     "metadata": {},
     "output_type": "execute_result"
    }
   ],
   "source": [
    "# train CBOW word2vec on 'item_description' column in training dataset only to avoid data leakage\n",
    "model_desc_2.train(tokens_desc,\n",
    "                total_examples= len(tokens_desc),\n",
    "                epochs=10)"
   ]
  },
  {
   "cell_type": "code",
   "execution_count": 26,
   "metadata": {},
   "outputs": [
    {
     "data": {
      "text/plain": [
       "[('boys', 0.6656105518341064),\n",
       " ('girl', 0.61686772108078),\n",
       " ('kids', 0.6155326962471008),\n",
       " ('toddler', 0.5794589519500732),\n",
       " ('ladies', 0.5690403580665588),\n",
       " ('juniors', 0.5352164506912231),\n",
       " ('jumpers', 0.505829930305481),\n",
       " ('kid', 0.4887089133262634),\n",
       " ('naartjie', 0.4874405264854431),\n",
       " ('crewcuts', 0.48140695691108704)]"
      ]
     },
     "execution_count": 26,
     "metadata": {},
     "output_type": "execute_result"
    }
   ],
   "source": [
    "# check model sanity using similar words\n",
    "model_desc_2.wv.most_similar(positive=\"girls\")"
   ]
  },
  {
   "cell_type": "markdown",
   "metadata": {},
   "source": [
    "## Construct embedding layers with different word embeddings"
   ]
  },
  {
   "cell_type": "code",
   "execution_count": 27,
   "metadata": {},
   "outputs": [],
   "source": [
    "# define a function to construct a sort of dictionary I can extract the word vectors from\n",
    "def embedding_index(embed_dict,m):    \n",
    "    for w in m.wv.vocab.keys():\n",
    "        embed_dict[w] = m.wv[w]\n",
    "    print('Found %s word vectors.' % len(embed_dict))"
   ]
  },
  {
   "cell_type": "markdown",
   "metadata": {},
   "source": [
    "### For skip-gram"
   ]
  },
  {
   "cell_type": "code",
   "execution_count": 32,
   "metadata": {},
   "outputs": [
    {
     "name": "stdout",
     "output_type": "stream",
     "text": [
      "Found 90623 word vectors.\n"
     ]
    }
   ],
   "source": [
    "# for 'name'\n",
    "embeddings_index_n = {}\n",
    "embedding_index(embeddings_index_n,model_name)"
   ]
  },
  {
   "cell_type": "code",
   "execution_count": 33,
   "metadata": {},
   "outputs": [
    {
     "name": "stdout",
     "output_type": "stream",
     "text": [
      "Found 129523 word vectors.\n"
     ]
    }
   ],
   "source": [
    "# for 'item_description'\n",
    "embeddings_index_id = {}\n",
    "embedding_index(embeddings_index_id,model_desc)"
   ]
  },
  {
   "cell_type": "markdown",
   "metadata": {},
   "source": [
    "### For CBOW"
   ]
  },
  {
   "cell_type": "code",
   "execution_count": 30,
   "metadata": {},
   "outputs": [
    {
     "name": "stdout",
     "output_type": "stream",
     "text": [
      "Found 90623 word vectors.\n"
     ]
    }
   ],
   "source": [
    "# for 'name'\n",
    "embeddings_index_n2 = {}\n",
    "embedding_index(embeddings_index_n2,model_name_2)"
   ]
  },
  {
   "cell_type": "code",
   "execution_count": 31,
   "metadata": {},
   "outputs": [
    {
     "name": "stdout",
     "output_type": "stream",
     "text": [
      "Found 129523 word vectors.\n"
     ]
    }
   ],
   "source": [
    "# for 'item_description'\n",
    "embeddings_index_id2 = {}\n",
    "embedding_index(embeddings_index_id2,model_desc_2)"
   ]
  },
  {
   "cell_type": "markdown",
   "metadata": {},
   "source": [
    "### For concatenated vectors of the two models\n",
    "For each model, I have 200 dimension vector representation of the words, and by concatenating each word will have 400 dimension vector representation."
   ]
  },
  {
   "cell_type": "code",
   "execution_count": 28,
   "metadata": {},
   "outputs": [
    {
     "name": "stdout",
     "output_type": "stream",
     "text": [
      "Found 90623 word vectors.\n"
     ]
    }
   ],
   "source": [
    "# for 'name'\n",
    "embeddings_index_n3 = {}\n",
    "for w in model_name.wv.vocab.keys():\n",
    "    embeddings_index_n3[w] = np.append(model_name.wv[w],model_name_2.wv[w])\n",
    "print('Found %s word vectors.' % len(embeddings_index_n3))"
   ]
  },
  {
   "cell_type": "code",
   "execution_count": 29,
   "metadata": {},
   "outputs": [
    {
     "name": "stdout",
     "output_type": "stream",
     "text": [
      "Found 129523 word vectors.\n"
     ]
    }
   ],
   "source": [
    "# for 'item_description'\n",
    "embeddings_index_id3 = {}\n",
    "for w in model_desc.wv.vocab.keys():\n",
    "    embeddings_index_id3[w] = np.append(model_desc.wv[w],model_desc_2.wv[w])\n",
    "print('Found %s word vectors.' % len(embeddings_index_id3))"
   ]
  },
  {
   "cell_type": "markdown",
   "metadata": {},
   "source": [
    "## Tokenization\n",
    "Now we have our reference to word vectors ready, but we still haven't prepared data to be in the format I have explained at the start of the post. Keras' 'Tokenizer' will split each word in a sentence, then we can call 'texts_to_sequences' method to get the sequential representation of each sentence. We also need to pass 'num_words' which is a number of vocabularies you want to use, and this will be applied when you call 'texts_to_sequences' method. This might be a bit counter-intuitive since if you check the length of all the word index, it will not be the number of words you defined, but the actual screening process happens when you call 'texts_to_sequences' method."
   ]
  },
  {
   "cell_type": "code",
   "execution_count": 23,
   "metadata": {},
   "outputs": [],
   "source": [
    "# text to Sequence Data.\n",
    "# combining columns, item_description, name, category_name.\n",
    "full_text = np.hstack([train.item_description.str.lower(), train.name.str.lower()])\n",
    "# full_text_test = np.hstack([test.item_description.str.lower(), test.name.str.lower()])"
   ]
  },
  {
   "cell_type": "code",
   "execution_count": 24,
   "metadata": {},
   "outputs": [],
   "source": [
    "# tokenize text data\n",
    "tokenizer = Tokenizer()\n",
    "tokenizer.fit_on_texts(full_text)\n",
    "train['seq_desc'] = tokenizer.texts_to_sequences(train.item_description.str.lower()) \n",
    "train['seq_name'] = tokenizer.texts_to_sequences(train.name.str.lower())"
   ]
  },
  {
   "cell_type": "markdown",
   "metadata": {},
   "source": [
    "## Prepare word vectors to feed the model\n",
    "Before we can feed the sequential text data to a model, we need to build a matrix of these word vectors using the word index number so that our model can refer to the corresponding vector when fed with integer sequence. This is because when we transformed a sentence into a sequence, each word is represented by an integer number, and these numbers are where each word is stored in the tokenizer's word index."
   ]
  },
  {
   "cell_type": "markdown",
   "metadata": {},
   "source": [
    "### Define function for transformation\n",
    "I am defining the number of words to be 200000. This means I will only care about 200000 most frequent words in the training set."
   ]
  },
  {
   "cell_type": "code",
   "execution_count": 36,
   "metadata": {},
   "outputs": [],
   "source": [
    "num_words = 200000\n",
    "def embedding_matrix(embedind):\n",
    "    embedding_matrix= np.zeros((num_words, 200))\n",
    "    for word, i in tokenizer.word_index.items():\n",
    "        if i >= num_words:\n",
    "            continue\n",
    "        embedding_vector = embedind.get(word)\n",
    "        if embedding_vector is not None:\n",
    "            embedding_matrix[i] = embedding_vector\n",
    "        return embedding_matrix"
   ]
  },
  {
   "cell_type": "markdown",
   "metadata": {},
   "source": [
    "### For skip-gram"
   ]
  },
  {
   "cell_type": "code",
   "execution_count": 39,
   "metadata": {},
   "outputs": [],
   "source": [
    "# for 'name'\n",
    "embedding_matrix_n= embedding_matrix(embeddings_index_n)"
   ]
  },
  {
   "cell_type": "code",
   "execution_count": 40,
   "metadata": {},
   "outputs": [],
   "source": [
    "# for 'item_description'\n",
    "embedding_matrix_id = embedding_matrix(embeddings_index_n)"
   ]
  },
  {
   "cell_type": "markdown",
   "metadata": {},
   "source": [
    "### For CBOW"
   ]
  },
  {
   "cell_type": "code",
   "execution_count": 37,
   "metadata": {},
   "outputs": [],
   "source": [
    "# for 'name'\n",
    "embedding_matrix_n_2 = embedding_matrix(embeddings_index_n2)"
   ]
  },
  {
   "cell_type": "code",
   "execution_count": 38,
   "metadata": {},
   "outputs": [],
   "source": [
    "# for 'item_description'\n",
    "embedding_matrix_id_2 = embedding_matrix(embeddings_index_id2)"
   ]
  },
  {
   "cell_type": "markdown",
   "metadata": {},
   "source": [
    "### For combined word vectors"
   ]
  },
  {
   "cell_type": "code",
   "execution_count": 41,
   "metadata": {
    "scrolled": true
   },
   "outputs": [],
   "source": [
    "# for 'name'\n",
    "embedding_matrix_n_3 = np.zeros((num_words, 400))\n",
    "for word, i in tokenizer.word_index.items():\n",
    "    if i >= num_words:\n",
    "        continue\n",
    "    embedding_vector = embeddings_index_n3.get(word)\n",
    "    if embedding_vector is not None:\n",
    "        embedding_matrix_n_3[i] = embedding_vector"
   ]
  },
  {
   "cell_type": "code",
   "execution_count": 42,
   "metadata": {},
   "outputs": [],
   "source": [
    "# for 'item_description'\n",
    "embedding_matrix_id_3 = np.zeros((num_words, 400))\n",
    "for word, i in tokenizer.word_index.items():\n",
    "    if i >= num_words:\n",
    "        continue\n",
    "    embedding_vector = embeddings_index_id3.get(word)\n",
    "    if embedding_vector is not None:\n",
    "        embedding_matrix_id_3[i] = embedding_vector"
   ]
  },
  {
   "cell_type": "markdown",
   "metadata": {},
   "source": [
    "### For GloVe\n",
    "Here, I used pretrained GloVe model from Stanford which contains 300-dimensional vectors for 0.4 million words and phrases."
   ]
  },
  {
   "cell_type": "code",
   "execution_count": 21,
   "metadata": {},
   "outputs": [],
   "source": [
    "# load the whole embedding into memory\n",
    "embedding_glove = './glove.6B/glove.6B.300d.txt'\n",
    "def get_coefs(word,*arr): \n",
    "    return word, np.asarray(arr, dtype='float32')\n",
    "embeddings_index_glove = dict(get_coefs(*o.split(\" \")) for o in open(embedding_glove))"
   ]
  },
  {
   "cell_type": "code",
   "execution_count": 61,
   "metadata": {},
   "outputs": [],
   "source": [
    "# create a weight matrix for words in training docs\n",
    "embedding_matrix_glove = np.zeros((200000, 300))\n",
    "for word, index in tokenizer.word_index.items():\n",
    "    if index > 200000 - 1:\n",
    "        break\n",
    "    else:\n",
    "        embedding_vector = embeddings_index_glove.get(word)\n",
    "        if embedding_vector is not None:\n",
    "            embedding_matrix_glove[index] = embedding_vector"
   ]
  },
  {
   "cell_type": "code",
   "execution_count": 33,
   "metadata": {},
   "outputs": [],
   "source": [
    "# finding out max len of all the text data combineds\n",
    "max_len_brand = np.max(train.brand_name.max())    # brand \n",
    "max_len_condition = np.max(int(max(train.item_condition_id)))  # item_condition\n",
    "max_len_desc = np.max(int(train.desc_len.max()))  # desc_len\n",
    "max_len_name = np.max(int(train.name_len.max()))  # name_len\n",
    "max_len_sub0 = np.max(int(train.main_cat.max()))  # main_cat\n",
    "max_len_sub1 = np.max(int(train.subcat1.max()))  # Sub_1\n",
    "max_len_sub2 = np.max(train.subcat2.max())  # Sub_2\n",
    "# defining max length for padding text data.\n",
    "name_padding = 15\n",
    "description_padding = 80\n",
    "max_len = np.max([np.max(train.seq_name.max()),np.max(train.seq_desc.max()),])"
   ]
  },
  {
   "cell_type": "code",
   "execution_count": 50,
   "metadata": {},
   "outputs": [],
   "source": [
    "# train and test split\n",
    "x_tr, x_te, Y_train, Y_test = train_test_split(train,y_train, random_state=42, train_size=0.7)\n",
    "Y_train = Y_train.values.reshape(-1, 1)\n",
    "Y_test = Y_test.values.reshape(-1, 1)"
   ]
  },
  {
   "cell_type": "markdown",
   "metadata": {},
   "source": [
    "## CNN Models"
   ]
  },
  {
   "cell_type": "markdown",
   "metadata": {},
   "source": [
    "### Using Skip-gram only"
   ]
  },
  {
   "cell_type": "code",
   "execution_count": 32,
   "metadata": {},
   "outputs": [],
   "source": [
    "# padding\n",
    "x_train_padded = { \n",
    "\"name\" : pad_sequences(x_tr.seq_name, maxlen= 200),\n",
    "\"item_desc\" : pad_sequences(x_tr.seq_desc, maxlen= 200),\n",
    "\"brand_name\" : np.array(x_tr.brand_name),\n",
    "\"item_condition\" : np.array(x_tr.item_condition_id),\n",
    "\"shipping\" : np.array(x_tr[[\"shipping\"]]),\n",
    "\"desc_len\" : np.array(x_tr[[\"desc_len\"]]),\n",
    "\"name_len\" : np.array(x_tr[[\"name_len\"]]),\n",
    "\"subcat_0\" : np.array(x_tr.main_cat),\n",
    "\"subcat_1\"  : np.array(x_tr.subcat1),\n",
    "\"subcat_2\" : np.array(x_tr.subcat2),\n",
    "} \n",
    "x_test_padded = {\n",
    "\"name\" : pad_sequences(x_te.seq_name, maxlen= 200),\n",
    "\"item_desc\" : pad_sequences(x_te.seq_desc, maxlen= 200),\n",
    "\"brand_name\" : np.array(x_te.brand_name),\n",
    "\"item_condition\" : np.array(x_te.item_condition_id),\n",
    "\"shipping\" : np.array(x_te[[\"shipping\"]]),\n",
    "\"desc_len\" : np.array(x_te[[\"desc_len\"]]),\n",
    "\"name_len\" : np.array(x_te[[\"name_len\"]]),\n",
    "\"subcat_0\" : np.array(x_te.main_cat),\n",
    "\"subcat_1\" : np.array(x_te.subcat1),\n",
    "\"subcat_2\" : np.array(x_te.subcat2),\n",
    "}"
   ]
  },
  {
   "cell_type": "code",
   "execution_count": 33,
   "metadata": {},
   "outputs": [],
   "source": [
    "x_tr = x_train_padded\n",
    "x_te = x_test_padded"
   ]
  },
  {
   "cell_type": "code",
   "execution_count": 34,
   "metadata": {},
   "outputs": [],
   "source": [
    "# define attributes\n",
    "batch_size = 512 * 3\n",
    "epochs = 2\n",
    "exp_decay = lambda init, fin, steps: (init/fin)**(1/(steps-1)) - 1\n",
    "steps = int(len(x_tr['name']) / batch_size) * epochs\n",
    "lr_init, lr_fin = 0.005, 0.001\n",
    "lr_decay = exp_decay(lr_init, lr_fin, steps)"
   ]
  },
  {
   "cell_type": "code",
   "execution_count": 45,
   "metadata": {},
   "outputs": [],
   "source": [
    "# definign inputs\n",
    "subcat_0 = Input(shape=[1], name=\"subcat_0\")\n",
    "subcat_1 = Input(shape=[1], name=\"subcat_1\")\n",
    "subcat_2 = Input(shape=[1], name=\"subcat_2\")\n",
    "desc_len = Input(shape=[1], name=\"desc_len\")\n",
    "name_len = Input(shape=[1], name=\"name_len\")\n",
    "\n",
    "brand_name = Input(shape=[1], name=\"brand_name\")\n",
    "\n",
    "num_vars = Input(shape=[1], name=\"shipping\")\n",
    "\n",
    "item_condition = Input(shape=[1], name=\"item_condition\")\n",
    "\n",
    "name = Input(200, name=\"name\") # 15 shape = [15]\n",
    "item_desc = Input(200, name=\"item_desc\") # 80 shape = [80]"
   ]
  },
  {
   "cell_type": "code",
   "execution_count": 36,
   "metadata": {},
   "outputs": [],
   "source": [
    "# define embedding layers, max lengthes raised larger becuase of the system error using tensorflow 2.x\n",
    "sub0_emb = Embedding(max_len_sub0+10, 10)(subcat_0)\n",
    "sub1_emb = Embedding(max_len_sub1+10, 10)(subcat_1)\n",
    "sub2_emb = Embedding(max_len_sub2+10, 10)(subcat_2)\n",
    "\n",
    "brand_emb = Embedding(max_len_brand+10, 10)(brand_name)\n",
    "\n",
    "item_cond_emb = Embedding(max_len_condition+10, 5)(item_condition)\n",
    "\n",
    "name_emb = Embedding(200000, 200, weights=[embedding_matrix_n],input_length=name_padding, trainable=True)(name)\n",
    "item_desc_emb = Embedding(200000, 200, weights=[embedding_matrix_id],input_length=description_padding, trainable=True)(item_desc)\n",
    "\n",
    "desc_len_emb = Embedding(max_len_desc+10, 5)(desc_len)\n",
    "name_len_emb = Embedding(max_len_name+10, 5)(name_len)"
   ]
  },
  {
   "cell_type": "code",
   "execution_count": 37,
   "metadata": {},
   "outputs": [],
   "source": [
    "# cnn and pooling layers\n",
    "convs1 = []\n",
    "convs2 = []\n",
    "for filter_length in [1,2]:\n",
    "  cnn_layer1 = Conv1D(filters=50, kernel_size=filter_length, padding='same', activation='relu', strides=1) (name_emb)\n",
    "  cnn_layer2 = Conv1D(filters=50, kernel_size=filter_length, padding='same', activation='relu', strides=1) (item_desc_emb)\n",
    "  maxpool1 = GlobalMaxPooling1D() (cnn_layer1)\n",
    "  maxpool2 = GlobalMaxPooling1D() (cnn_layer2)\n",
    "  convs1.append(maxpool1)\n",
    "  convs2.append(maxpool2)"
   ]
  },
  {
   "cell_type": "code",
   "execution_count": 38,
   "metadata": {},
   "outputs": [],
   "source": [
    "convs1 = concatenate(convs1)\n",
    "convs2 = concatenate(convs2)"
   ]
  },
  {
   "cell_type": "code",
   "execution_count": 53,
   "metadata": {},
   "outputs": [],
   "source": [
    "# flatten\n",
    "flat_1 = Flatten() (brand_emb)\n",
    "flat_2 = Flatten() (item_cond_emb)\n",
    "flat_5 = Flatten() (sub0_emb)\n",
    "flat_6 = Flatten() (sub1_emb)\n",
    "flat_7 = Flatten() (sub2_emb)"
   ]
  },
  {
   "cell_type": "code",
   "execution_count": 40,
   "metadata": {},
   "outputs": [],
   "source": [
    "# concatenate for further steps\n",
    "main_l = concatenate([flat_1,flat_2,flat_5,flat_6,flat_7,convs1,convs2, num_vars])"
   ]
  },
  {
   "cell_type": "code",
   "execution_count": 41,
   "metadata": {},
   "outputs": [],
   "source": [
    "# add dropout and batchnormalization layers\n",
    "main_l = Dropout(0.1)(Dense(256,kernel_initializer='normal',activation='relu') (main_l))\n",
    "main_l = BatchNormalization()(Dense(128,kernel_initializer='normal',activation='relu') (main_l))\n",
    "main_l = Dropout(0.1)(Dense(64,kernel_initializer='normal',activation='relu') (main_l))\n",
    "main_l = BatchNormalization()(Dense(32,kernel_initializer='normal',activation='relu') (main_l))"
   ]
  },
  {
   "cell_type": "code",
   "execution_count": 42,
   "metadata": {
    "scrolled": true
   },
   "outputs": [
    {
     "name": "stdout",
     "output_type": "stream",
     "text": [
      "Model: \"functional_1\"\n",
      "__________________________________________________________________________________________________\n",
      "Layer (type)                    Output Shape         Param #     Connected to                     \n",
      "==================================================================================================\n",
      "name (InputLayer)               [(None, 200)]        0                                            \n",
      "__________________________________________________________________________________________________\n",
      "item_desc (InputLayer)          [(None, 200)]        0                                            \n",
      "__________________________________________________________________________________________________\n",
      "embedding_5 (Embedding)         (None, 200, 200)     40000000    name[0][0]                       \n",
      "__________________________________________________________________________________________________\n",
      "embedding_6 (Embedding)         (None, 200, 200)     40000000    item_desc[0][0]                  \n",
      "__________________________________________________________________________________________________\n",
      "brand_name (InputLayer)         [(None, 1)]          0                                            \n",
      "__________________________________________________________________________________________________\n",
      "item_condition (InputLayer)     [(None, 1)]          0                                            \n",
      "__________________________________________________________________________________________________\n",
      "subcat_0 (InputLayer)           [(None, 1)]          0                                            \n",
      "__________________________________________________________________________________________________\n",
      "subcat_1 (InputLayer)           [(None, 1)]          0                                            \n",
      "__________________________________________________________________________________________________\n",
      "subcat_2 (InputLayer)           [(None, 1)]          0                                            \n",
      "__________________________________________________________________________________________________\n",
      "conv1d (Conv1D)                 (None, 200, 50)      10050       embedding_5[0][0]                \n",
      "__________________________________________________________________________________________________\n",
      "conv1d_2 (Conv1D)               (None, 200, 50)      20050       embedding_5[0][0]                \n",
      "__________________________________________________________________________________________________\n",
      "conv1d_1 (Conv1D)               (None, 200, 50)      10050       embedding_6[0][0]                \n",
      "__________________________________________________________________________________________________\n",
      "conv1d_3 (Conv1D)               (None, 200, 50)      20050       embedding_6[0][0]                \n",
      "__________________________________________________________________________________________________\n",
      "embedding_3 (Embedding)         (None, 1, 10)        48100       brand_name[0][0]                 \n",
      "__________________________________________________________________________________________________\n",
      "embedding_4 (Embedding)         (None, 1, 5)         75          item_condition[0][0]             \n",
      "__________________________________________________________________________________________________\n",
      "embedding (Embedding)           (None, 1, 10)        190         subcat_0[0][0]                   \n",
      "__________________________________________________________________________________________________\n",
      "embedding_1 (Embedding)         (None, 1, 10)        1220        subcat_1[0][0]                   \n",
      "__________________________________________________________________________________________________\n",
      "embedding_2 (Embedding)         (None, 1, 10)        8790        subcat_2[0][0]                   \n",
      "__________________________________________________________________________________________________\n",
      "global_max_pooling1d (GlobalMax (None, 50)           0           conv1d[0][0]                     \n",
      "__________________________________________________________________________________________________\n",
      "global_max_pooling1d_2 (GlobalM (None, 50)           0           conv1d_2[0][0]                   \n",
      "__________________________________________________________________________________________________\n",
      "global_max_pooling1d_1 (GlobalM (None, 50)           0           conv1d_1[0][0]                   \n",
      "__________________________________________________________________________________________________\n",
      "global_max_pooling1d_3 (GlobalM (None, 50)           0           conv1d_3[0][0]                   \n",
      "__________________________________________________________________________________________________\n",
      "flatten (Flatten)               (None, 10)           0           embedding_3[0][0]                \n",
      "__________________________________________________________________________________________________\n",
      "flatten_1 (Flatten)             (None, 5)            0           embedding_4[0][0]                \n",
      "__________________________________________________________________________________________________\n",
      "flatten_2 (Flatten)             (None, 10)           0           embedding[0][0]                  \n",
      "__________________________________________________________________________________________________\n",
      "flatten_3 (Flatten)             (None, 10)           0           embedding_1[0][0]                \n",
      "__________________________________________________________________________________________________\n",
      "flatten_4 (Flatten)             (None, 10)           0           embedding_2[0][0]                \n",
      "__________________________________________________________________________________________________\n",
      "concatenate (Concatenate)       (None, 100)          0           global_max_pooling1d[0][0]       \n",
      "                                                                 global_max_pooling1d_2[0][0]     \n",
      "__________________________________________________________________________________________________\n",
      "concatenate_1 (Concatenate)     (None, 100)          0           global_max_pooling1d_1[0][0]     \n",
      "                                                                 global_max_pooling1d_3[0][0]     \n",
      "__________________________________________________________________________________________________\n",
      "shipping (InputLayer)           [(None, 1)]          0                                            \n",
      "__________________________________________________________________________________________________\n",
      "concatenate_2 (Concatenate)     (None, 246)          0           flatten[0][0]                    \n",
      "                                                                 flatten_1[0][0]                  \n",
      "                                                                 flatten_2[0][0]                  \n",
      "                                                                 flatten_3[0][0]                  \n",
      "                                                                 flatten_4[0][0]                  \n",
      "                                                                 concatenate[0][0]                \n",
      "                                                                 concatenate_1[0][0]              \n",
      "                                                                 shipping[0][0]                   \n",
      "__________________________________________________________________________________________________\n",
      "dense (Dense)                   (None, 256)          63232       concatenate_2[0][0]              \n",
      "__________________________________________________________________________________________________\n",
      "dropout (Dropout)               (None, 256)          0           dense[0][0]                      \n",
      "__________________________________________________________________________________________________\n",
      "dense_1 (Dense)                 (None, 128)          32896       dropout[0][0]                    \n",
      "__________________________________________________________________________________________________\n",
      "batch_normalization (BatchNorma (None, 128)          512         dense_1[0][0]                    \n",
      "__________________________________________________________________________________________________\n",
      "dense_2 (Dense)                 (None, 64)           8256        batch_normalization[0][0]        \n",
      "__________________________________________________________________________________________________\n",
      "dropout_1 (Dropout)             (None, 64)           0           dense_2[0][0]                    \n",
      "__________________________________________________________________________________________________\n",
      "dense_3 (Dense)                 (None, 32)           2080        dropout_1[0][0]                  \n",
      "__________________________________________________________________________________________________\n",
      "batch_normalization_1 (BatchNor (None, 32)           128         dense_3[0][0]                    \n",
      "__________________________________________________________________________________________________\n",
      "desc_len (InputLayer)           [(None, 1)]          0                                            \n",
      "__________________________________________________________________________________________________\n",
      "name_len (InputLayer)           [(None, 1)]          0                                            \n",
      "__________________________________________________________________________________________________\n",
      "dense_4 (Dense)                 (None, 1)            33          batch_normalization_1[0][0]      \n",
      "==================================================================================================\n",
      "Total params: 80,225,712\n",
      "Trainable params: 80,225,392\n",
      "Non-trainable params: 320\n",
      "__________________________________________________________________________________________________\n"
     ]
    }
   ],
   "source": [
    "# define output layer and optimizer\n",
    "output = Dense(1, activation=\"linear\") (main_l)\n",
    "model1= Model([name, item_desc, brand_name , desc_len,name_len, item_condition, subcat_0, subcat_1, subcat_2, num_vars], output)\n",
    "optimizer = optimizers.Adam(lr = 0.005)\n",
    "# compile the model\n",
    "model1.compile(loss = 'mse', optimizer = optimizer)\n",
    "model1.summary()"
   ]
  },
  {
   "cell_type": "code",
   "execution_count": 43,
   "metadata": {
    "scrolled": true
   },
   "outputs": [
    {
     "name": "stdout",
     "output_type": "stream",
     "text": [
      "Epoch 1/2\n",
      "676/676 [==============================] - 1274s 2s/step - loss: 0.5506\n",
      "Epoch 2/2\n",
      "676/676 [==============================] - 1156s 2s/step - loss: 0.1831\n"
     ]
    },
    {
     "data": {
      "text/plain": [
       "<tensorflow.python.keras.callbacks.History at 0x7fc75781cd90>"
      ]
     },
     "execution_count": 43,
     "metadata": {},
     "output_type": "execute_result"
    }
   ],
   "source": [
    "# fit cnn model\n",
    "model1.fit(x_tr, Y_train, epochs= 2, batch_size= 512 * 3)"
   ]
  },
  {
   "cell_type": "code",
   "execution_count": 70,
   "metadata": {},
   "outputs": [],
   "source": [
    "def rmsle(y, y_pred): # return Rmsle value.\n",
    "    return np.sqrt(np.mean(np.square(y_pred - y )))"
   ]
  },
  {
   "cell_type": "code",
   "execution_count": 46,
   "metadata": {},
   "outputs": [
    {
     "name": "stdout",
     "output_type": "stream",
     "text": [
      "RMSLE error: 0.44352263135055897\n"
     ]
    }
   ],
   "source": [
    "# get the error\n",
    "y_pred = model1.predict(x_te, batch_size=batch_size)\n",
    "print(\"RMSLE error:\", rmsle(Y_test, y_pred))"
   ]
  },
  {
   "cell_type": "markdown",
   "metadata": {},
   "source": [
    "### Using CBOW only"
   ]
  },
  {
   "cell_type": "code",
   "execution_count": 68,
   "metadata": {},
   "outputs": [],
   "source": [
    "# redefine name and item description embeddings using trained CBOW as different weights\n",
    "# paddings and other embedding layers can remain the same because only the weights changed\n",
    "name_emb_2 = Embedding(200000, 200, weights=[embedding_matrix_n_2],input_length=name_padding, trainable=True)(name)\n",
    "item_desc_emb_2 = Embedding(200000, 200, weights=[embedding_matrix_id_2],input_length=description_padding, trainable=True)(item_desc)"
   ]
  },
  {
   "cell_type": "code",
   "execution_count": 92,
   "metadata": {},
   "outputs": [],
   "source": [
    "# cnn and pooling layers\n",
    "convs1_2 = []\n",
    "convs2_2 = []\n",
    "for filter_length in [1,2]:\n",
    "  cnn_layer1 = Conv1D(filters=50, kernel_size=filter_length, padding='same', activation='relu', strides=1) (name_emb_2)\n",
    "  cnn_layer2 = Conv1D(filters=50, kernel_size=filter_length, padding='same', activation='relu', strides=1) (item_desc_emb_2)\n",
    "  maxpool1 = GlobalMaxPooling1D() (cnn_layer1)\n",
    "  maxpool2 = GlobalMaxPooling1D() (cnn_layer2)\n",
    "  convs1_2.append(maxpool1)\n",
    "  convs2_2.append(maxpool2)"
   ]
  },
  {
   "cell_type": "code",
   "execution_count": 71,
   "metadata": {},
   "outputs": [],
   "source": [
    "convs1_2 = concatenate(convs1_2)\n",
    "convs2_2 = concatenate(convs2_2)"
   ]
  },
  {
   "cell_type": "code",
   "execution_count": 41,
   "metadata": {},
   "outputs": [],
   "source": [
    "# flatten\n",
    "flat_1 = Flatten() (brand_emb)\n",
    "flat_2 = Flatten() (item_cond_emb)\n",
    "flat_5 = Flatten() (sub0_emb)\n",
    "flat_6 = Flatten() (sub1_emb)\n",
    "flat_7 = Flatten() (sub2_emb)"
   ]
  },
  {
   "cell_type": "code",
   "execution_count": 73,
   "metadata": {},
   "outputs": [],
   "source": [
    "# concatenate for further steps\n",
    "main_2 = concatenate([flat_1,flat_2,flat_5,flat_6,flat_7,convs1_2,convs2_2, num_vars])"
   ]
  },
  {
   "cell_type": "code",
   "execution_count": 74,
   "metadata": {},
   "outputs": [],
   "source": [
    "# add dropout and batchnormalization layers\n",
    "main_2 = Dropout(0.1)(Dense(256,kernel_initializer='normal',activation='relu') (main_2))\n",
    "main_2 = BatchNormalization()(Dense(128,kernel_initializer='normal',activation='relu') (main_2))\n",
    "main_2 = Dropout(0.1)(Dense(64,kernel_initializer='normal',activation='relu') (main_2))\n",
    "main_2 = BatchNormalization()(Dense(32,kernel_initializer='normal',activation='relu') (main_2))"
   ]
  },
  {
   "cell_type": "code",
   "execution_count": 75,
   "metadata": {
    "scrolled": true
   },
   "outputs": [
    {
     "name": "stdout",
     "output_type": "stream",
     "text": [
      "Model: \"functional_3\"\n",
      "__________________________________________________________________________________________________\n",
      "Layer (type)                    Output Shape         Param #     Connected to                     \n",
      "==================================================================================================\n",
      "name (InputLayer)               [(None, 200)]        0                                            \n",
      "__________________________________________________________________________________________________\n",
      "item_desc (InputLayer)          [(None, 200)]        0                                            \n",
      "__________________________________________________________________________________________________\n",
      "embedding_9 (Embedding)         (None, 200, 200)     40000000    name[0][0]                       \n",
      "__________________________________________________________________________________________________\n",
      "embedding_10 (Embedding)        (None, 200, 200)     40000000    item_desc[0][0]                  \n",
      "__________________________________________________________________________________________________\n",
      "brand_name (InputLayer)         [(None, 1)]          0                                            \n",
      "__________________________________________________________________________________________________\n",
      "item_condition (InputLayer)     [(None, 1)]          0                                            \n",
      "__________________________________________________________________________________________________\n",
      "subcat_0 (InputLayer)           [(None, 1)]          0                                            \n",
      "__________________________________________________________________________________________________\n",
      "subcat_1 (InputLayer)           [(None, 1)]          0                                            \n",
      "__________________________________________________________________________________________________\n",
      "subcat_2 (InputLayer)           [(None, 1)]          0                                            \n",
      "__________________________________________________________________________________________________\n",
      "conv1d_8 (Conv1D)               (None, 200, 50)      10050       embedding_9[0][0]                \n",
      "__________________________________________________________________________________________________\n",
      "conv1d_10 (Conv1D)              (None, 200, 50)      20050       embedding_9[0][0]                \n",
      "__________________________________________________________________________________________________\n",
      "conv1d_9 (Conv1D)               (None, 200, 50)      10050       embedding_10[0][0]               \n",
      "__________________________________________________________________________________________________\n",
      "conv1d_11 (Conv1D)              (None, 200, 50)      20050       embedding_10[0][0]               \n",
      "__________________________________________________________________________________________________\n",
      "embedding_3 (Embedding)         (None, 1, 10)        48100       brand_name[0][0]                 \n",
      "__________________________________________________________________________________________________\n",
      "embedding_4 (Embedding)         (None, 1, 5)         75          item_condition[0][0]             \n",
      "__________________________________________________________________________________________________\n",
      "embedding (Embedding)           (None, 1, 10)        190         subcat_0[0][0]                   \n",
      "__________________________________________________________________________________________________\n",
      "embedding_1 (Embedding)         (None, 1, 10)        1220        subcat_1[0][0]                   \n",
      "__________________________________________________________________________________________________\n",
      "embedding_2 (Embedding)         (None, 1, 10)        8790        subcat_2[0][0]                   \n",
      "__________________________________________________________________________________________________\n",
      "global_max_pooling1d_8 (GlobalM (None, 50)           0           conv1d_8[0][0]                   \n",
      "__________________________________________________________________________________________________\n",
      "global_max_pooling1d_10 (Global (None, 50)           0           conv1d_10[0][0]                  \n",
      "__________________________________________________________________________________________________\n",
      "global_max_pooling1d_9 (GlobalM (None, 50)           0           conv1d_9[0][0]                   \n",
      "__________________________________________________________________________________________________\n",
      "global_max_pooling1d_11 (Global (None, 50)           0           conv1d_11[0][0]                  \n",
      "__________________________________________________________________________________________________\n",
      "flatten (Flatten)               (None, 10)           0           embedding_3[0][0]                \n",
      "__________________________________________________________________________________________________\n",
      "flatten_1 (Flatten)             (None, 5)            0           embedding_4[0][0]                \n",
      "__________________________________________________________________________________________________\n",
      "flatten_2 (Flatten)             (None, 10)           0           embedding[0][0]                  \n",
      "__________________________________________________________________________________________________\n",
      "flatten_3 (Flatten)             (None, 10)           0           embedding_1[0][0]                \n",
      "__________________________________________________________________________________________________\n",
      "flatten_4 (Flatten)             (None, 10)           0           embedding_2[0][0]                \n",
      "__________________________________________________________________________________________________\n",
      "concatenate_3 (Concatenate)     (None, 100)          0           global_max_pooling1d_8[0][0]     \n",
      "                                                                 global_max_pooling1d_10[0][0]    \n",
      "__________________________________________________________________________________________________\n",
      "concatenate_4 (Concatenate)     (None, 100)          0           global_max_pooling1d_9[0][0]     \n",
      "                                                                 global_max_pooling1d_11[0][0]    \n",
      "__________________________________________________________________________________________________\n",
      "shipping (InputLayer)           [(None, 1)]          0                                            \n",
      "__________________________________________________________________________________________________\n",
      "concatenate_6 (Concatenate)     (None, 246)          0           flatten[0][0]                    \n",
      "                                                                 flatten_1[0][0]                  \n",
      "                                                                 flatten_2[0][0]                  \n",
      "                                                                 flatten_3[0][0]                  \n",
      "                                                                 flatten_4[0][0]                  \n",
      "                                                                 concatenate_3[0][0]              \n",
      "                                                                 concatenate_4[0][0]              \n",
      "                                                                 shipping[0][0]                   \n",
      "__________________________________________________________________________________________________\n",
      "dense_5 (Dense)                 (None, 256)          63232       concatenate_6[0][0]              \n",
      "__________________________________________________________________________________________________\n",
      "dropout_2 (Dropout)             (None, 256)          0           dense_5[0][0]                    \n",
      "__________________________________________________________________________________________________\n",
      "dense_6 (Dense)                 (None, 128)          32896       dropout_2[0][0]                  \n",
      "__________________________________________________________________________________________________\n",
      "batch_normalization_2 (BatchNor (None, 128)          512         dense_6[0][0]                    \n",
      "__________________________________________________________________________________________________\n",
      "dense_7 (Dense)                 (None, 64)           8256        batch_normalization_2[0][0]      \n",
      "__________________________________________________________________________________________________\n",
      "dropout_3 (Dropout)             (None, 64)           0           dense_7[0][0]                    \n",
      "__________________________________________________________________________________________________\n",
      "dense_8 (Dense)                 (None, 32)           2080        dropout_3[0][0]                  \n",
      "__________________________________________________________________________________________________\n",
      "batch_normalization_3 (BatchNor (None, 32)           128         dense_8[0][0]                    \n",
      "__________________________________________________________________________________________________\n",
      "desc_len (InputLayer)           [(None, 1)]          0                                            \n",
      "__________________________________________________________________________________________________\n",
      "name_len (InputLayer)           [(None, 1)]          0                                            \n",
      "__________________________________________________________________________________________________\n",
      "dense_9 (Dense)                 (None, 1)            33          batch_normalization_3[0][0]      \n",
      "==================================================================================================\n",
      "Total params: 80,225,712\n",
      "Trainable params: 80,225,392\n",
      "Non-trainable params: 320\n",
      "__________________________________________________________________________________________________\n"
     ]
    }
   ],
   "source": [
    "# define output layer and optimizer\n",
    "output_2 = Dense(1, activation=\"linear\") (main_2)\n",
    "model2 = Model([name, item_desc, brand_name , desc_len,name_len, item_condition, subcat_0, subcat_1, subcat_2, num_vars], output_2)\n",
    "optimizer = optimizers.Adam(lr = 0.005)\n",
    "# compile the model\n",
    "model2.compile(loss = 'mse', optimizer = optimizer)\n",
    "model2.summary()"
   ]
  },
  {
   "cell_type": "code",
   "execution_count": 76,
   "metadata": {},
   "outputs": [
    {
     "name": "stdout",
     "output_type": "stream",
     "text": [
      "Epoch 1/2\n",
      "676/676 [==============================] - 1299s 2s/step - loss: 0.5596\n",
      "Epoch 2/2\n",
      "676/676 [==============================] - 1296s 2s/step - loss: 0.1849\n"
     ]
    },
    {
     "data": {
      "text/plain": [
       "<tensorflow.python.keras.callbacks.History at 0x7fc5a84184d0>"
      ]
     },
     "execution_count": 76,
     "metadata": {},
     "output_type": "execute_result"
    }
   ],
   "source": [
    "# fit cnn model\n",
    "model2.fit(x_tr, Y_train, epochs= 2, batch_size= 512 * 3)"
   ]
  },
  {
   "cell_type": "code",
   "execution_count": 77,
   "metadata": {},
   "outputs": [
    {
     "name": "stdout",
     "output_type": "stream",
     "text": [
      "RMSLE error: 0.4517581166409557\n"
     ]
    }
   ],
   "source": [
    "# get the error\n",
    "y_pred = model2.predict(x_te, batch_size=batch_size)\n",
    "print(\"RMSLE error:\", rmsle(Y_test, y_pred))"
   ]
  },
  {
   "cell_type": "markdown",
   "metadata": {},
   "source": [
    "### Using combined word2vectors"
   ]
  },
  {
   "cell_type": "code",
   "execution_count": 46,
   "metadata": {},
   "outputs": [],
   "source": [
    "# padding\n",
    "# we need new paddings here because the shape of the embedding matrix changed\n",
    "x_train_padded_con = { \n",
    "\"name\" : pad_sequences(x_tr.seq_name, maxlen= 400),\n",
    "\"item_desc\" : pad_sequences(x_tr.seq_desc, maxlen= 400),\n",
    "\"brand_name\" : np.array(x_tr.brand_name),\n",
    "\"item_condition\" : np.array(x_tr.item_condition_id),\n",
    "\"shipping\" : np.array(x_tr[[\"shipping\"]]),\n",
    "\"desc_len\" : np.array(x_tr[[\"desc_len\"]]),\n",
    "\"name_len\" : np.array(x_tr[[\"name_len\"]]),\n",
    "\"subcat_0\" : np.array(x_tr.main_cat),\n",
    "\"subcat_1\"  : np.array(x_tr.subcat1),\n",
    "\"subcat_2\" : np.array(x_tr.subcat2),\n",
    "} \n",
    "x_test_padded_con = {\n",
    "\"name\" : pad_sequences(x_te.seq_name, maxlen= 400),\n",
    "\"item_desc\" : pad_sequences(x_te.seq_desc, maxlen= 400),\n",
    "\"brand_name\" : np.array(x_te.brand_name),\n",
    "\"item_condition\" : np.array(x_te.item_condition_id),\n",
    "\"shipping\" : np.array(x_te[[\"shipping\"]]),\n",
    "\"desc_len\" : np.array(x_te[[\"desc_len\"]]),\n",
    "\"name_len\" : np.array(x_te[[\"name_len\"]]),\n",
    "\"subcat_0\" : np.array(x_te.main_cat),\n",
    "\"subcat_1\" : np.array(x_te.subcat1),\n",
    "\"subcat_2\" : np.array(x_te.subcat2),\n",
    "}"
   ]
  },
  {
   "cell_type": "code",
   "execution_count": 47,
   "metadata": {},
   "outputs": [],
   "source": [
    "x_tr = x_train_padded_con\n",
    "x_te = x_test_padded_con"
   ]
  },
  {
   "cell_type": "code",
   "execution_count": 48,
   "metadata": {},
   "outputs": [],
   "source": [
    "# define attributes\n",
    "batch_size = 512 * 3\n",
    "epochs = 2\n",
    "exp_decay = lambda init, fin, steps: (init/fin)**(1/(steps-1)) - 1\n",
    "steps = int(len(x_tr['name']) / batch_size) * epochs\n",
    "lr_init, lr_fin = 0.005, 0.001\n",
    "lr_decay = exp_decay(lr_init, lr_fin, steps)\n",
    "# definign inputs.\n",
    "subcat_0 = Input(shape=[1], name=\"subcat_0\")\n",
    "subcat_1 = Input(shape=[1], name=\"subcat_1\")\n",
    "subcat_2 = Input(shape=[1], name=\"subcat_2\")\n",
    "desc_len = Input(shape=[1], name=\"desc_len\")\n",
    "name_len = Input(shape=[1], name=\"name_len\")\n",
    "\n",
    "brand_name = Input(shape=[1], name=\"brand_name\")\n",
    "\n",
    "num_vars = Input(shape=[1], name=\"shipping\")\n",
    "\n",
    "item_condition = Input(shape=[1], name=\"item_condition\")\n",
    "\n",
    "# inputs should change the shape as well in accordance with the embedding_matrix's shape\n",
    "name_con = Input(400, name=\"name\") # 15 shape = [15]\n",
    "item_desc_con = Input(400, name=\"item_desc\") # 80 shape = [80]"
   ]
  },
  {
   "cell_type": "code",
   "execution_count": 62,
   "metadata": {},
   "outputs": [],
   "source": [
    "# define embedding layers, max lengthes raised larger becuase of the system error using tensorflow 2.x\n",
    "sub0_emb = Embedding(max_len_sub0+10, 10)(subcat_0)\n",
    "sub1_emb = Embedding(max_len_sub1+10, 10)(subcat_1)\n",
    "sub2_emb = Embedding(max_len_sub2+10, 10)(subcat_2)\n",
    "\n",
    "brand_emb = Embedding(max_len_brand+10, 10)(brand_name)\n",
    "\n",
    "item_cond_emb = Embedding(max_len_condition+10, 5)(item_condition)\n",
    "\n",
    "\n",
    "\n",
    "desc_len_emb = Embedding(max_len_desc+10, 5)(desc_len)\n",
    "name_len_emb = Embedding(max_len_name+10, 5)(name_len)\n",
    "\n",
    "# to fit inputs and weightings in, change the shape to 400\n",
    "name_emb_con = Embedding(200000, 400, weights=[embedding_matrix_n_3],input_length=name_padding, trainable=True)(name_con)\n",
    "item_desc_emb_con = Embedding(200000, 400, weights=[embedding_matrix_id_3],input_length=description_padding, trainable=True)(item_desc_con)"
   ]
  },
  {
   "cell_type": "code",
   "execution_count": 63,
   "metadata": {},
   "outputs": [],
   "source": [
    "# cnn and pooling layers\n",
    "convs1_3 = []\n",
    "convs2_3 = []\n",
    "for filter_length in [1,2]:\n",
    "  cnn_layer1 = Conv1D(filters=100, kernel_size=filter_length, padding='same', activation='relu', strides=1) (name_emb_con)\n",
    "  cnn_layer2 = Conv1D(filters=100, kernel_size=filter_length, padding='same', activation='relu', strides=1) (item_desc_emb_con)\n",
    "  maxpool1 = GlobalMaxPooling1D() (cnn_layer1)\n",
    "  maxpool2 = GlobalMaxPooling1D() (cnn_layer2)\n",
    "  convs1_3.append(maxpool1)\n",
    "  convs2_3.append(maxpool2)\n",
    "# cnn and pooling layers\n",
    "convs1_3 = concatenate(convs1_3)\n",
    "convs2_3 = concatenate(convs2_3)"
   ]
  },
  {
   "cell_type": "code",
   "execution_count": 42,
   "metadata": {},
   "outputs": [],
   "source": [
    "# flatten\n",
    "flat_1 = Flatten() (brand_emb)\n",
    "flat_2 = Flatten() (item_cond_emb)\n",
    "flat_5 = Flatten() (sub0_emb)\n",
    "flat_6 = Flatten() (sub1_emb)\n",
    "flat_7 = Flatten() (sub2_emb)"
   ]
  },
  {
   "cell_type": "code",
   "execution_count": 64,
   "metadata": {},
   "outputs": [],
   "source": [
    "# concatenate for further steps\n",
    "main_3 = concatenate([flat_1,flat_2,flat_5,flat_6,flat_7,convs1_3,convs2_3, num_vars])"
   ]
  },
  {
   "cell_type": "code",
   "execution_count": 65,
   "metadata": {},
   "outputs": [],
   "source": [
    "# add dropout and batchnormalization layers\n",
    "main_3 = Dropout(0.1)(Dense(256,kernel_initializer='normal',activation='relu') (main_3))\n",
    "main_3 = BatchNormalization()(Dense(128,kernel_initializer='normal',activation='relu') (main_3))\n",
    "main_3 = Dropout(0.1)(Dense(64,kernel_initializer='normal',activation='relu') (main_3))\n",
    "main_3 = BatchNormalization()(Dense(32,kernel_initializer='normal',activation='relu') (main_3))"
   ]
  },
  {
   "cell_type": "code",
   "execution_count": 66,
   "metadata": {
    "scrolled": true
   },
   "outputs": [
    {
     "name": "stdout",
     "output_type": "stream",
     "text": [
      "Model: \"functional_9\"\n",
      "__________________________________________________________________________________________________\n",
      "Layer (type)                    Output Shape         Param #     Connected to                     \n",
      "==================================================================================================\n",
      "name (InputLayer)               [(None, 400)]        0                                            \n",
      "__________________________________________________________________________________________________\n",
      "item_desc (InputLayer)          [(None, 400)]        0                                            \n",
      "__________________________________________________________________________________________________\n",
      "embedding_23 (Embedding)        (None, 400, 400)     80000000    name[0][0]                       \n",
      "__________________________________________________________________________________________________\n",
      "embedding_24 (Embedding)        (None, 400, 400)     80000000    item_desc[0][0]                  \n",
      "__________________________________________________________________________________________________\n",
      "brand_name (InputLayer)         [(None, 1)]          0                                            \n",
      "__________________________________________________________________________________________________\n",
      "item_condition (InputLayer)     [(None, 1)]          0                                            \n",
      "__________________________________________________________________________________________________\n",
      "subcat_0 (InputLayer)           [(None, 1)]          0                                            \n",
      "__________________________________________________________________________________________________\n",
      "subcat_1 (InputLayer)           [(None, 1)]          0                                            \n",
      "__________________________________________________________________________________________________\n",
      "subcat_2 (InputLayer)           [(None, 1)]          0                                            \n",
      "__________________________________________________________________________________________________\n",
      "conv1d_4 (Conv1D)               (None, 400, 100)     40100       embedding_23[0][0]               \n",
      "__________________________________________________________________________________________________\n",
      "conv1d_6 (Conv1D)               (None, 400, 100)     80100       embedding_23[0][0]               \n",
      "__________________________________________________________________________________________________\n",
      "conv1d_5 (Conv1D)               (None, 400, 100)     40100       embedding_24[0][0]               \n",
      "__________________________________________________________________________________________________\n",
      "conv1d_7 (Conv1D)               (None, 400, 100)     80100       embedding_24[0][0]               \n",
      "__________________________________________________________________________________________________\n",
      "embedding_10 (Embedding)        (None, 1, 10)        48100       brand_name[0][0]                 \n",
      "__________________________________________________________________________________________________\n",
      "embedding_11 (Embedding)        (None, 1, 5)         75          item_condition[0][0]             \n",
      "__________________________________________________________________________________________________\n",
      "embedding_7 (Embedding)         (None, 1, 10)        190         subcat_0[0][0]                   \n",
      "__________________________________________________________________________________________________\n",
      "embedding_8 (Embedding)         (None, 1, 10)        1220        subcat_1[0][0]                   \n",
      "__________________________________________________________________________________________________\n",
      "embedding_9 (Embedding)         (None, 1, 10)        8790        subcat_2[0][0]                   \n",
      "__________________________________________________________________________________________________\n",
      "global_max_pooling1d_4 (GlobalM (None, 100)          0           conv1d_4[0][0]                   \n",
      "__________________________________________________________________________________________________\n",
      "global_max_pooling1d_6 (GlobalM (None, 100)          0           conv1d_6[0][0]                   \n",
      "__________________________________________________________________________________________________\n",
      "global_max_pooling1d_5 (GlobalM (None, 100)          0           conv1d_5[0][0]                   \n",
      "__________________________________________________________________________________________________\n",
      "global_max_pooling1d_7 (GlobalM (None, 100)          0           conv1d_7[0][0]                   \n",
      "__________________________________________________________________________________________________\n",
      "flatten_1 (Flatten)             (None, 10)           0           embedding_10[0][0]               \n",
      "__________________________________________________________________________________________________\n",
      "flatten_2 (Flatten)             (None, 5)            0           embedding_11[0][0]               \n",
      "__________________________________________________________________________________________________\n",
      "flatten_3 (Flatten)             (None, 10)           0           embedding_7[0][0]                \n",
      "__________________________________________________________________________________________________\n",
      "flatten_4 (Flatten)             (None, 10)           0           embedding_8[0][0]                \n",
      "__________________________________________________________________________________________________\n",
      "flatten_5 (Flatten)             (None, 10)           0           embedding_9[0][0]                \n",
      "__________________________________________________________________________________________________\n",
      "concatenate_3 (Concatenate)     (None, 200)          0           global_max_pooling1d_4[0][0]     \n",
      "                                                                 global_max_pooling1d_6[0][0]     \n",
      "__________________________________________________________________________________________________\n",
      "concatenate_4 (Concatenate)     (None, 200)          0           global_max_pooling1d_5[0][0]     \n",
      "                                                                 global_max_pooling1d_7[0][0]     \n",
      "__________________________________________________________________________________________________\n",
      "shipping (InputLayer)           [(None, 1)]          0                                            \n",
      "__________________________________________________________________________________________________\n",
      "concatenate_5 (Concatenate)     (None, 446)          0           flatten_1[0][0]                  \n",
      "                                                                 flatten_2[0][0]                  \n",
      "                                                                 flatten_3[0][0]                  \n",
      "                                                                 flatten_4[0][0]                  \n",
      "                                                                 flatten_5[0][0]                  \n",
      "                                                                 concatenate_3[0][0]              \n",
      "                                                                 concatenate_4[0][0]              \n",
      "                                                                 shipping[0][0]                   \n",
      "__________________________________________________________________________________________________\n",
      "dense_9 (Dense)                 (None, 256)          114432      concatenate_5[0][0]              \n",
      "__________________________________________________________________________________________________\n",
      "dropout_2 (Dropout)             (None, 256)          0           dense_9[0][0]                    \n",
      "__________________________________________________________________________________________________\n",
      "dense_10 (Dense)                (None, 128)          32896       dropout_2[0][0]                  \n",
      "__________________________________________________________________________________________________\n",
      "batch_normalization_2 (BatchNor (None, 128)          512         dense_10[0][0]                   \n",
      "__________________________________________________________________________________________________\n",
      "dense_11 (Dense)                (None, 64)           8256        batch_normalization_2[0][0]      \n",
      "__________________________________________________________________________________________________\n",
      "dropout_3 (Dropout)             (None, 64)           0           dense_11[0][0]                   \n",
      "__________________________________________________________________________________________________\n",
      "dense_12 (Dense)                (None, 32)           2080        dropout_3[0][0]                  \n",
      "__________________________________________________________________________________________________\n",
      "batch_normalization_3 (BatchNor (None, 32)           128         dense_12[0][0]                   \n",
      "__________________________________________________________________________________________________\n",
      "desc_len (InputLayer)           [(None, 1)]          0                                            \n",
      "__________________________________________________________________________________________________\n",
      "name_len (InputLayer)           [(None, 1)]          0                                            \n",
      "__________________________________________________________________________________________________\n",
      "dense_13 (Dense)                (None, 1)            33          batch_normalization_3[0][0]      \n",
      "==================================================================================================\n",
      "Total params: 160,457,112\n",
      "Trainable params: 160,456,792\n",
      "Non-trainable params: 320\n",
      "__________________________________________________________________________________________________\n"
     ]
    }
   ],
   "source": [
    "# define output layer and optimizer\n",
    "output_3 = Dense(1, activation=\"linear\") (main_3)\n",
    "model3 = Model([name_con, item_desc_con, brand_name , desc_len,name_len, item_condition, subcat_0, subcat_1, subcat_2, num_vars], output_3)\n",
    "optimizer = optimizers.Adam(lr = 0.005)\n",
    "# compile the model\n",
    "model3.compile(loss = 'mse', optimizer = optimizer)\n",
    "model3.summary()"
   ]
  },
  {
   "cell_type": "code",
   "execution_count": 67,
   "metadata": {},
   "outputs": [
    {
     "name": "stdout",
     "output_type": "stream",
     "text": [
      "Epoch 1/2\n",
      "676/676 [==============================] - 12969s 19s/step - loss: 0.5378\n",
      "Epoch 2/2\n",
      "676/676 [==============================] - 12520s 19s/step - loss: 0.1876\n"
     ]
    },
    {
     "data": {
      "text/plain": [
       "<tensorflow.python.keras.callbacks.History at 0x7fbbb3165b90>"
      ]
     },
     "execution_count": 67,
     "metadata": {},
     "output_type": "execute_result"
    }
   ],
   "source": [
    "# fit cnn model\n",
    "model3.fit(x_tr, Y_train, epochs= 2, batch_size= 512 * 3)"
   ]
  },
  {
   "cell_type": "code",
   "execution_count": 69,
   "metadata": {},
   "outputs": [
    {
     "name": "stdout",
     "output_type": "stream",
     "text": [
      "RMSLE error: 0.453948998016969\n"
     ]
    }
   ],
   "source": [
    "# get the error\n",
    "y_pred = model3.predict(x_te, batch_size=batch_size)\n",
    "print(\"RMSLE error:\", rmsle(Y_test, y_pred))"
   ]
  },
  {
   "cell_type": "markdown",
   "metadata": {},
   "source": [
    "### Using Pre-trained GloVe embedding"
   ]
  },
  {
   "cell_type": "code",
   "execution_count": 51,
   "metadata": {},
   "outputs": [],
   "source": [
    "# padding glove\n",
    "# change shape to 300 to keep up with the embedding matrix's shape\n",
    "x_train_padded = { \n",
    "\"name\" : pad_sequences(x_tr.seq_name, maxlen= 300),\n",
    "\"item_desc\" : pad_sequences(x_tr.seq_desc, maxlen= 300),\n",
    "\"brand_name\" : np.array(x_tr.brand_name),\n",
    "\"item_condition\" : np.array(x_tr.item_condition_id),\n",
    "\"shipping\" : np.array(x_tr[[\"shipping\"]]),\n",
    "\"desc_len\" : np.array(x_tr[[\"desc_len\"]]),\n",
    "\"name_len\" : np.array(x_tr[[\"name_len\"]]),\n",
    "\"subcat_0\" : np.array(x_tr.main_cat),\n",
    "\"subcat_1\"  : np.array(x_tr.subcat1),\n",
    "\"subcat_2\" : np.array(x_tr.subcat2),\n",
    "} \n",
    "x_test_padded = {\n",
    "\"name\" : pad_sequences(x_te.seq_name, maxlen= 300),\n",
    "\"item_desc\" : pad_sequences(x_te.seq_desc, maxlen= 300),\n",
    "\"brand_name\" : np.array(x_te.brand_name),\n",
    "\"item_condition\" : np.array(x_te.item_condition_id),\n",
    "\"shipping\" : np.array(x_te[[\"shipping\"]]),\n",
    "\"desc_len\" : np.array(x_te[[\"desc_len\"]]),\n",
    "\"name_len\" : np.array(x_te[[\"name_len\"]]),\n",
    "\"subcat_0\" : np.array(x_te.main_cat),\n",
    "\"subcat_1\" : np.array(x_te.subcat1),\n",
    "\"subcat_2\" : np.array(x_te.subcat2),\n",
    "}"
   ]
  },
  {
   "cell_type": "code",
   "execution_count": 52,
   "metadata": {},
   "outputs": [],
   "source": [
    "x_tr = x_train_padded\n",
    "x_te = x_test_padded"
   ]
  },
  {
   "cell_type": "code",
   "execution_count": 30,
   "metadata": {},
   "outputs": [],
   "source": [
    "# define attributes\n",
    "batch_size = 512 * 3\n",
    "epochs = 2\n",
    "exp_decay = lambda init, fin, steps: (init/fin)**(1/(steps-1)) - 1\n",
    "steps = int(len(x_tr['name']) / batch_size) * epochs\n",
    "lr_init, lr_fin = 0.005, 0.001\n",
    "lr_decay = exp_decay(lr_init, lr_fin, steps)"
   ]
  },
  {
   "cell_type": "code",
   "execution_count": 53,
   "metadata": {},
   "outputs": [],
   "source": [
    "# definign inputs\n",
    "subcat_0 = Input(shape=[1], name=\"subcat_0\")\n",
    "subcat_1 = Input(shape=[1], name=\"subcat_1\")\n",
    "subcat_2 = Input(shape=[1], name=\"subcat_2\")\n",
    "desc_len = Input(shape=[1], name=\"desc_len\")\n",
    "name_len = Input(shape=[1], name=\"name_len\")\n",
    "\n",
    "brand_name = Input(shape=[1], name=\"brand_name\")\n",
    "\n",
    "num_vars = Input(shape=[1], name=\"shipping\")\n",
    "\n",
    "item_condition = Input(shape=[1], name=\"item_condition\")\n",
    "\n",
    "# change shape to 300\n",
    "name = Input(300, name=\"name\") # 15 shape = [15]\n",
    "item_desc = Input(300, name=\"item_desc\") # 80 shape = [80]"
   ]
  },
  {
   "cell_type": "code",
   "execution_count": 62,
   "metadata": {},
   "outputs": [],
   "source": [
    "# define embedding layers, max lengthes raised larger becuase of the system error using tensorflow 2.x\n",
    "sub0_emb = Embedding(max_len_sub0+10, 10)(subcat_0)\n",
    "sub1_emb = Embedding(max_len_sub1+10, 10)(subcat_1)\n",
    "sub2_emb = Embedding(max_len_sub2+10, 10)(subcat_2)\n",
    "\n",
    "brand_emb = Embedding(max_len_brand+10, 10)(brand_name)\n",
    "\n",
    "item_cond_emb = Embedding(max_len_condition+10, 5)(item_condition)\n",
    "# change shape to 300 to use glove weightings and new defined inputs\n",
    "name_emb = Embedding(200000, 300, weights=[embedding_matrix_glove],input_length=name_padding, trainable=True)(name)\n",
    "item_desc_emb = Embedding(200000, 300, weights=[embedding_matrix_glove],input_length=description_padding, trainable=True)(item_desc)\n",
    "\n",
    "desc_len_emb = Embedding(max_len_desc+10, 5)(desc_len)\n",
    "name_len_emb = Embedding(max_len_name+10, 5)(name_len)"
   ]
  },
  {
   "cell_type": "code",
   "execution_count": 63,
   "metadata": {},
   "outputs": [],
   "source": [
    "# cnn and pooling layers\n",
    "convs1_4 = []\n",
    "convs2_4 = []\n",
    "for filter_length in [1,2]:\n",
    "  cnn_layer1 = Conv1D(filters=100, kernel_size=filter_length, padding='same', activation='relu', strides=1) (name_emb)\n",
    "  cnn_layer2 = Conv1D(filters=100, kernel_size=filter_length, padding='same', activation='relu', strides=1) (item_desc_emb)\n",
    "  maxpool1 = GlobalMaxPooling1D() (cnn_layer1)\n",
    "  maxpool2 = GlobalMaxPooling1D() (cnn_layer2)\n",
    "  convs1_4.append(maxpool1)\n",
    "  convs2_4.append(maxpool2)\n",
    "# cnn and pooling layers\n",
    "convs1_4 = concatenate(convs1_4)\n",
    "convs2_4 = concatenate(convs2_4)"
   ]
  },
  {
   "cell_type": "code",
   "execution_count": 64,
   "metadata": {},
   "outputs": [],
   "source": [
    "# flattem\n",
    "flat_1 = Flatten() (brand_emb)\n",
    "flat_2 = Flatten() (item_cond_emb)\n",
    "flat_5 = Flatten() (sub0_emb)\n",
    "flat_6 = Flatten() (sub1_emb)\n",
    "flat_7 = Flatten() (sub2_emb)"
   ]
  },
  {
   "cell_type": "code",
   "execution_count": 65,
   "metadata": {},
   "outputs": [],
   "source": [
    "# concatenate for further steps\n",
    "main_4 = concatenate([flat_1,flat_2,flat_5,flat_6,flat_7,convs1_4,convs2_4, num_vars])"
   ]
  },
  {
   "cell_type": "code",
   "execution_count": 66,
   "metadata": {},
   "outputs": [],
   "source": [
    "# add dropout and batchnormalization layers\n",
    "main_4 = Dropout(0.1)(Dense(256,kernel_initializer='normal',activation='relu') (main_4))\n",
    "main_4 = BatchNormalization()(Dense(128,kernel_initializer='normal',activation='relu') (main_4))\n",
    "main_4 = Dropout(0.1)(Dense(64,kernel_initializer='normal',activation='relu') (main_4))\n",
    "main_4 = BatchNormalization()(Dense(32,kernel_initializer='normal',activation='relu') (main_4))"
   ]
  },
  {
   "cell_type": "code",
   "execution_count": 67,
   "metadata": {
    "scrolled": true
   },
   "outputs": [
    {
     "name": "stdout",
     "output_type": "stream",
     "text": [
      "Model: \"functional_5\"\n",
      "__________________________________________________________________________________________________\n",
      "Layer (type)                    Output Shape         Param #     Connected to                     \n",
      "==================================================================================================\n",
      "name (InputLayer)               [(None, 300)]        0                                            \n",
      "__________________________________________________________________________________________________\n",
      "item_desc (InputLayer)          [(None, 300)]        0                                            \n",
      "__________________________________________________________________________________________________\n",
      "embedding_43 (Embedding)        (None, 300, 300)     60000000    name[0][0]                       \n",
      "__________________________________________________________________________________________________\n",
      "embedding_44 (Embedding)        (None, 300, 300)     60000000    item_desc[0][0]                  \n",
      "__________________________________________________________________________________________________\n",
      "brand_name (InputLayer)         [(None, 1)]          0                                            \n",
      "__________________________________________________________________________________________________\n",
      "item_condition (InputLayer)     [(None, 1)]          0                                            \n",
      "__________________________________________________________________________________________________\n",
      "subcat_0 (InputLayer)           [(None, 1)]          0                                            \n",
      "__________________________________________________________________________________________________\n",
      "subcat_1 (InputLayer)           [(None, 1)]          0                                            \n",
      "__________________________________________________________________________________________________\n",
      "subcat_2 (InputLayer)           [(None, 1)]          0                                            \n",
      "__________________________________________________________________________________________________\n",
      "conv1d_14 (Conv1D)              (None, 300, 100)     30100       embedding_43[0][0]               \n",
      "__________________________________________________________________________________________________\n",
      "conv1d_16 (Conv1D)              (None, 300, 100)     60100       embedding_43[0][0]               \n",
      "__________________________________________________________________________________________________\n",
      "conv1d_15 (Conv1D)              (None, 300, 100)     30100       embedding_44[0][0]               \n",
      "__________________________________________________________________________________________________\n",
      "conv1d_17 (Conv1D)              (None, 300, 100)     60100       embedding_44[0][0]               \n",
      "__________________________________________________________________________________________________\n",
      "embedding_41 (Embedding)        (None, 1, 10)        48100       brand_name[0][0]                 \n",
      "__________________________________________________________________________________________________\n",
      "embedding_42 (Embedding)        (None, 1, 5)         75          item_condition[0][0]             \n",
      "__________________________________________________________________________________________________\n",
      "embedding_38 (Embedding)        (None, 1, 10)        190         subcat_0[0][0]                   \n",
      "__________________________________________________________________________________________________\n",
      "embedding_39 (Embedding)        (None, 1, 10)        1220        subcat_1[0][0]                   \n",
      "__________________________________________________________________________________________________\n",
      "embedding_40 (Embedding)        (None, 1, 10)        8790        subcat_2[0][0]                   \n",
      "__________________________________________________________________________________________________\n",
      "global_max_pooling1d_14 (Global (None, 100)          0           conv1d_14[0][0]                  \n",
      "__________________________________________________________________________________________________\n",
      "global_max_pooling1d_16 (Global (None, 100)          0           conv1d_16[0][0]                  \n",
      "__________________________________________________________________________________________________\n",
      "global_max_pooling1d_15 (Global (None, 100)          0           conv1d_15[0][0]                  \n",
      "__________________________________________________________________________________________________\n",
      "global_max_pooling1d_17 (Global (None, 100)          0           conv1d_17[0][0]                  \n",
      "__________________________________________________________________________________________________\n",
      "flatten_20 (Flatten)            (None, 10)           0           embedding_41[0][0]               \n",
      "__________________________________________________________________________________________________\n",
      "flatten_21 (Flatten)            (None, 5)            0           embedding_42[0][0]               \n",
      "__________________________________________________________________________________________________\n",
      "flatten_22 (Flatten)            (None, 10)           0           embedding_38[0][0]               \n",
      "__________________________________________________________________________________________________\n",
      "flatten_23 (Flatten)            (None, 10)           0           embedding_39[0][0]               \n",
      "__________________________________________________________________________________________________\n",
      "flatten_24 (Flatten)            (None, 10)           0           embedding_40[0][0]               \n",
      "__________________________________________________________________________________________________\n",
      "concatenate_6 (Concatenate)     (None, 200)          0           global_max_pooling1d_14[0][0]    \n",
      "                                                                 global_max_pooling1d_16[0][0]    \n",
      "__________________________________________________________________________________________________\n",
      "concatenate_7 (Concatenate)     (None, 200)          0           global_max_pooling1d_15[0][0]    \n",
      "                                                                 global_max_pooling1d_17[0][0]    \n",
      "__________________________________________________________________________________________________\n",
      "shipping (InputLayer)           [(None, 1)]          0                                            \n",
      "__________________________________________________________________________________________________\n",
      "concatenate_8 (Concatenate)     (None, 446)          0           flatten_20[0][0]                 \n",
      "                                                                 flatten_21[0][0]                 \n",
      "                                                                 flatten_22[0][0]                 \n",
      "                                                                 flatten_23[0][0]                 \n",
      "                                                                 flatten_24[0][0]                 \n",
      "                                                                 concatenate_6[0][0]              \n",
      "                                                                 concatenate_7[0][0]              \n",
      "                                                                 shipping[0][0]                   \n",
      "__________________________________________________________________________________________________\n",
      "dense_10 (Dense)                (None, 256)          114432      concatenate_8[0][0]              \n",
      "__________________________________________________________________________________________________\n",
      "dropout_4 (Dropout)             (None, 256)          0           dense_10[0][0]                   \n",
      "__________________________________________________________________________________________________\n",
      "dense_11 (Dense)                (None, 128)          32896       dropout_4[0][0]                  \n",
      "__________________________________________________________________________________________________\n",
      "batch_normalization_4 (BatchNor (None, 128)          512         dense_11[0][0]                   \n",
      "__________________________________________________________________________________________________\n",
      "dense_12 (Dense)                (None, 64)           8256        batch_normalization_4[0][0]      \n",
      "__________________________________________________________________________________________________\n",
      "dropout_5 (Dropout)             (None, 64)           0           dense_12[0][0]                   \n",
      "__________________________________________________________________________________________________\n",
      "dense_13 (Dense)                (None, 32)           2080        dropout_5[0][0]                  \n",
      "__________________________________________________________________________________________________\n",
      "batch_normalization_5 (BatchNor (None, 32)           128         dense_13[0][0]                   \n",
      "__________________________________________________________________________________________________\n",
      "desc_len (InputLayer)           [(None, 1)]          0                                            \n",
      "__________________________________________________________________________________________________\n",
      "name_len (InputLayer)           [(None, 1)]          0                                            \n",
      "__________________________________________________________________________________________________\n",
      "dense_14 (Dense)                (None, 1)            33          batch_normalization_5[0][0]      \n",
      "==================================================================================================\n",
      "Total params: 120,397,112\n",
      "Trainable params: 120,396,792\n",
      "Non-trainable params: 320\n",
      "__________________________________________________________________________________________________\n"
     ]
    }
   ],
   "source": [
    "# define output layer and optimizer\n",
    "output_4 = Dense(1, activation=\"linear\") (main_4)\n",
    "model4 = Model([name, item_desc, brand_name , desc_len,name_len, item_condition, subcat_0, subcat_1, subcat_2, num_vars], output_4)\n",
    "optimizer = optimizers.Adam(lr = 0.005)\n",
    "# compile the model\n",
    "model4.compile(loss = 'mse', optimizer = optimizer)\n",
    "model4.summary()"
   ]
  },
  {
   "cell_type": "code",
   "execution_count": 68,
   "metadata": {},
   "outputs": [
    {
     "name": "stdout",
     "output_type": "stream",
     "text": [
      "Epoch 1/2\n",
      "676/676 [==============================] - 3304s 5s/step - loss: 0.5475\n",
      "Epoch 2/2\n",
      "676/676 [==============================] - 3406s 5s/step - loss: 0.1826\n"
     ]
    },
    {
     "data": {
      "text/plain": [
       "<tensorflow.python.keras.callbacks.History at 0x7fa217ef7490>"
      ]
     },
     "execution_count": 68,
     "metadata": {},
     "output_type": "execute_result"
    }
   ],
   "source": [
    "# fit cnn model\n",
    "model4.fit(x_tr, Y_train, epochs= 2, batch_size= 512 * 3)"
   ]
  },
  {
   "cell_type": "code",
   "execution_count": 71,
   "metadata": {},
   "outputs": [
    {
     "name": "stdout",
     "output_type": "stream",
     "text": [
      "RMSLE error: 0.4685206355815177\n"
     ]
    }
   ],
   "source": [
    "# get the error\n",
    "y_pred = model4.predict(x_te, batch_size=batch_size)\n",
    "print(\"RMSLE error:\", rmsle(Y_test, y_pred))"
   ]
  },
  {
   "cell_type": "markdown",
   "metadata": {},
   "source": [
    "## Plot the model \n",
    "I plot the skip-gram model as an example to show the baseline structure of my CNN models as below."
   ]
  },
  {
   "cell_type": "code",
   "execution_count": 47,
   "metadata": {},
   "outputs": [
    {
     "data": {
      "image/png": "[encoded data removed]",
      "text/plain": [
       "<IPython.core.display.Image object>"
      ]
     },
     "execution_count": 47,
     "metadata": {},
     "output_type": "execute_result"
    }
   ],
   "source": [
    "plot_model(model1, to_file= 'CNN_wv2.png', show_shapes=True, show_layer_names=True)\n",
    "Image(filename='CNN_wv2.png')"
   ]
  },
  {
   "cell_type": "code",
   "execution_count": 49,
   "metadata": {},
   "outputs": [],
   "source": [
    "model_json = model_2.to_json()\n",
    "with open(\"model.json\", \"w\") as json_file:\n",
    "    json_file.write(model_json)\n",
    "model_2.save_weights(\"model.h5\")"
   ]
  },
  {
   "cell_type": "markdown",
   "metadata": {},
   "source": [
    "## Model comparison"
   ]
  },
  {
   "cell_type": "code",
   "execution_count": 6,
   "metadata": {},
   "outputs": [
    {
     "name": "stdout",
     "output_type": "stream",
     "text": [
      "+-------------------------+-------------+\n",
      "|          Model          | RMSLE Error |\n",
      "+-------------------------+-------------+\n",
      "|    Ridge Regressrion    |     0.48    |\n",
      "|    Lasso Regressrion    |     0.56    |\n",
      "|        Light GBM        |     0.49    |\n",
      "|         XGBoost         |     0.58    |\n",
      "|       Baseline CNN      |     0.45    |\n",
      "|     CNN + Skip-gram     |     0.44    |\n",
      "|        CNN + CBOW       |     0.45    |\n",
      "| CNN + Combined Word2Vec |     0.45    |\n",
      "|  CNN + Pretrained GloVe |     0.47    |\n",
      "+-------------------------+-------------+\n"
     ]
    }
   ],
   "source": [
    "from prettytable import PrettyTable\n",
    "x = PrettyTable()\n",
    "x.field_names = [\"Model\", \"RMSLE Error\"]\n",
    "x.add_row([\"Ridge Regressrion\", 0.48])\n",
    "x.add_row([\"Lasso Regressrion\", 0.56])\n",
    "x.add_row([\"Light GBM\", 0.49])\n",
    "x.add_row([\"XGBoost\", 0.58])\n",
    "x.add_row([\"Baseline CNN\", 0.45])\n",
    "x.add_row([\"CNN + Skip-gram\", 0.44])\n",
    "x.add_row([\"CNN + CBOW\", 0.45])\n",
    "x.add_row([\"CNN + Combined Word2Vec\", 0.45])\n",
    "x.add_row([\"CNN + Pretrained GloVe\", 0.47])\n",
    "\n",
    "print(x)"
   ]
  },
  {
   "cell_type": "markdown",
   "metadata": {},
   "source": [
    "**Findings:**\n",
    "<br> Implementing word embeddings as weighting in CNN model did not improve model performance significantly, while made the model slower to run. One probability is that these pretrained embeddings are not trained against text in the same context so the number of common words between our text and text that these pretrained embeddings were trained would be low. One way to solve this is to use a large corpus to train the word embeddings, and the other way is to reduce the overfitting in the baseline model or try early stopping.\n",
    "<br>\n",
    "<br> From the perspective of business needs, I would recommende the baseline CNN model as it gets the lowest RMSLE error in my experiments, it runs a lot faster than any other models, and it is easy to update with new data to improve/maintainence the model in a regular base."
   ]
  },
  {
   "cell_type": "markdown",
   "metadata": {},
   "source": [
    "## Future work"
   ]
  },
  {
   "cell_type": "markdown",
   "metadata": {},
   "source": [
    "<br> 1. With reference to other kerneks, there are several feature engineering techniques to further reduce the score. For example, we can introduce aggregated features into the model (mean item description length), or remove some features we generated that has little impact after experiments (name length).\n",
    "<br>\n",
    "<br> 2. We can also implement deeper neural network with better architecture and hyper parameter tuning.And it is worth trying multi-layer perceptron as it handles short text data and categorical features well or LSTM as it learns better than a 2-layer only CNN. Anyway, we should keep in mind that the model should be efficient as well, so a LSTM would be the most worthy experiment to do.\n"
   ]
  }
 ],
 "metadata": {
  "kernelspec": {
   "display_name": "Python 3",
   "language": "python",
   "name": "python3"
  },
  "language_info": {
   "codemirror_mode": {
    "name": "ipython",
    "version": 3
   },
   "file_extension": ".py",
   "mimetype": "text/x-python",
   "name": "python",
   "nbconvert_exporter": "python",
   "pygments_lexer": "ipython3",
   "version": "3.7.4"
  }
 },
 "nbformat": 4,
 "nbformat_minor": 2
}
